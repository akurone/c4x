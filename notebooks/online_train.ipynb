{
 "cells": [
  {
   "cell_type": "markdown",
   "metadata": {},
   "source": [
    "# Online Eğitim"
   ]
  },
  {
   "cell_type": "markdown",
   "metadata": {},
   "source": [
    "## Hazırlık"
   ]
  },
  {
   "cell_type": "code",
   "execution_count": 1,
   "metadata": {},
   "outputs": [],
   "source": [
    "import sys\n",
    "from pathlib import Path\n",
    "\n",
    "root = Path.cwd().parents[0]\n",
    "if root not in sys.path:\n",
    "  sys.path.append(str(root))\n",
    "  sys.path.append(str(root / 'src'))\n",
    "\n",
    "TMP_DIR, DM_MDL_DIR = str(root / 'tmp'), str(root / 'serializedObjs' / 'dm')\n",
    "import os\n",
    "if not os.path.exists(TMP_DIR):\n",
    "  os.makedirs(TMP_DIR)\n",
    "if not os.path.exists(DM_MDL_DIR):\n",
    "  os.makedirs(DM_MDL_DIR)\n",
    "\n",
    "from src import utils\n",
    "utils.seed_everything()\n",
    "\n",
    "import pickle\n",
    "\n",
    "from tqdm import tqdm\n",
    "\n",
    "import random\n",
    "\n",
    "from transformers import Trainer, TrainingArguments\n",
    "\n",
    "from src.decision_mamba import TrainableDM, DecisionMambaGymDataCollator\n",
    "\n",
    "from src.env import Game, LEARNER, OPPONENT\n",
    "from src.agents import MinimaxAgent, ModelAgent"
   ]
  },
  {
   "cell_type": "markdown",
   "metadata": {},
   "source": [
    "## Değişkenler"
   ]
  },
  {
   "cell_type": "code",
   "execution_count": 2,
   "metadata": {},
   "outputs": [],
   "source": [
    "DATA_FILE = f'{TMP_DIR}/offline_data.pkl'\n",
    "MDL_IN = f'{DM_MDL_DIR}/test_offline'\n",
    "MDL_OUT = f'{DM_MDL_DIR}/test_online'\n",
    "ROUNDS = 2 #2000\n",
    "#Top N\n",
    "N = 7 #500\n",
    "TARGET_RETURN = 2\n",
    "EXPLORATORY_MAX = 0.5\n",
    "EXPLORATORY_MIN = 0.1"
   ]
  },
  {
   "cell_type": "markdown",
   "metadata": {},
   "source": [
    "## Veri / Model Okuma"
   ]
  },
  {
   "cell_type": "code",
   "execution_count": 3,
   "metadata": {},
   "outputs": [],
   "source": [
    "if not os.path.exists(DATA_FILE):\n",
    "  raise FileExistsError(f\"Dosya ({DATA_FILE}) bulunamadı.\")\n",
    "\n",
    "with open(DATA_FILE, 'rb') as f:\n",
    "  gameReplayData = pickle.load(f)\n",
    "\n",
    "model = TrainableDM.from_pretrained(MDL_IN)\n",
    "\n",
    "replay_buffer = sorted(gameReplayData, key=lambda x: x[4][0], reverse = True)[:N]"
   ]
  },
  {
   "cell_type": "markdown",
   "metadata": {},
   "source": [
    "## Eğitim"
   ]
  },
  {
   "cell_type": "code",
   "execution_count": 4,
   "metadata": {},
   "outputs": [
    {
     "name": "stderr",
     "output_type": "stream",
     "text": [
      "  0%|          | 0/1 [00:00<?, ?it/s]Could not estimate the number of tokens of the input, floating-point operations will not be computed\n",
      "100%|██████████| 1/1 [00:02<00:00,  2.78s/it]"
     ]
    },
    {
     "name": "stdout",
     "output_type": "stream",
     "text": [
      "{'train_runtime': 2.0363, 'train_samples_per_second': 10.313, 'train_steps_per_second': 1.473, 'train_loss': 1.9670173327128093, 'epoch': 3.0}\n"
     ]
    },
    {
     "name": "stderr",
     "output_type": "stream",
     "text": [
      "\n"
     ]
    }
   ],
   "source": [
    "training_args = TrainingArguments(\n",
    "  output_dir=f\"{TMP_DIR}/train_on/\",\n",
    "  remove_unused_columns=False,\n",
    "  num_train_epochs=3, # 120\n",
    "  per_device_train_batch_size=64, # 64\n",
    "  learning_rate=1e-4,\n",
    "  weight_decay=1e-4,\n",
    "  warmup_ratio=0.1,\n",
    "  optim=\"adamw_torch\",\n",
    "  max_grad_norm=0.25,\n",
    "  disable_tqdm=True,\n",
    "  report_to=\"none\",\n",
    ")\n",
    "\n",
    "learner = ModelAgent(model, player=LEARNER)\n",
    "opponent = MinimaxAgent(depth=2, epsilon=0.0, player=OPPONENT)\n",
    "game = Game(learner, opponent)\n",
    "\n",
    "\n",
    "for round in tqdm(range(1, ROUNDS)):\n",
    "    replay_buffer = sorted(replay_buffer, key=lambda x: x[4][0], reverse = True)\n",
    "    exploratory = EXPLORATORY_MIN + (EXPLORATORY_MAX - EXPLORATORY_MIN) * (ROUNDS - float(round)) / ROUNDS\n",
    "    random.seed(round)\n",
    "    _, _, traj1 = game.play(explore=exploratory)\n",
    "    _, _, traj2 = game.play(explore=exploratory)\n",
    "    _, _, traj3 = game.play(explore=exploratory)\n",
    "    replay_buffer[-1] = traj1\n",
    "    replay_buffer[-2] = traj2\n",
    "    replay_buffer[-3] = traj3\n",
    "    trainer = Trainer(\n",
    "      model=model,\n",
    "      args=training_args,\n",
    "      train_dataset=replay_buffer,\n",
    "      data_collator=DecisionMambaGymDataCollator(replay_buffer),\n",
    "    )\n",
    "    trainer.train()"
   ]
  },
  {
   "cell_type": "markdown",
   "metadata": {},
   "source": [
    "## Kayıt"
   ]
  },
  {
   "cell_type": "code",
   "execution_count": 5,
   "metadata": {},
   "outputs": [],
   "source": [
    "trainer.save_model(MDL_OUT)"
   ]
  }
 ],
 "metadata": {
  "kernelspec": {
   "display_name": ".venv",
   "language": "python",
   "name": "python3"
  },
  "language_info": {
   "codemirror_mode": {
    "name": "ipython",
    "version": 3
   },
   "file_extension": ".py",
   "mimetype": "text/x-python",
   "name": "python",
   "nbconvert_exporter": "python",
   "pygments_lexer": "ipython3",
   "version": "3.10.14"
  }
 },
 "nbformat": 4,
 "nbformat_minor": 2
}
