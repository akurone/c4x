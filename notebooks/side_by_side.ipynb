{
 "cells": [
  {
   "cell_type": "markdown",
   "metadata": {},
   "source": [
    "# Karşılaştırma"
   ]
  },
  {
   "cell_type": "markdown",
   "metadata": {},
   "source": [
    "## Hazırlık"
   ]
  },
  {
   "cell_type": "code",
   "execution_count": 5,
   "metadata": {},
   "outputs": [],
   "source": [
    "import sys\n",
    "from pathlib import Path\n",
    "\n",
    "root = Path.cwd().parents[0]\n",
    "if root not in sys.path:\n",
    "  sys.path.append(str(root))\n",
    "  sys.path.append(str(root / 'src'))\n",
    "\n",
    "MDL_DIR = str(root / 'serializedObjs')\n",
    "\n",
    "from src import utils\n",
    "utils.seed_everything()\n",
    "\n",
    "import random\n",
    "from tqdm import tqdm\n",
    "\n",
    "from src.decision_mamba import TrainableDM\n",
    "from src.utils import TrainableDT\n",
    "from src.env import Game, LEARNER, OPPONENT\n",
    "from src.agents import ModelAgent\n"
   ]
  },
  {
   "cell_type": "markdown",
   "metadata": {},
   "source": [
    "## Değişkenler"
   ]
  },
  {
   "cell_type": "code",
   "execution_count": 6,
   "metadata": {},
   "outputs": [],
   "source": [
    "DM_MDL = f\"{MDL_DIR}/dm/large_online\"\n",
    "DT_MDL = f\"{MDL_DIR}/dt/final_minimax_online\"\n",
    "P1, P2 = LEARNER, OPPONENT"
   ]
  },
  {
   "cell_type": "markdown",
   "metadata": {},
   "source": [
    "## Yordam"
   ]
  },
  {
   "cell_type": "code",
   "execution_count": 7,
   "metadata": {},
   "outputs": [],
   "source": [
    "dm = TrainableDM.from_pretrained(DM_MDL)\n",
    "dt = TrainableDT.from_pretrained(DT_MDL)\n",
    "game = Game(ModelAgent(dm, player=P1), ModelAgent(dt, player=P2))"
   ]
  },
  {
   "cell_type": "markdown",
   "metadata": {},
   "source": [
    "## Maç"
   ]
  },
  {
   "cell_type": "code",
   "execution_count": 8,
   "metadata": {},
   "outputs": [
    {
     "name": "stderr",
     "output_type": "stream",
     "text": [
      "100%|██████████| 20/20 [00:03<00:00,  6.14it/s]"
     ]
    },
    {
     "name": "stdout",
     "output_type": "stream",
     "text": [
      "Sonuçlar:\n",
      "DM: 0\n",
      "DT: 20\n",
      "Berabere: 0\n"
     ]
    },
    {
     "name": "stderr",
     "output_type": "stream",
     "text": [
      "\n"
     ]
    }
   ],
   "source": [
    "ROUNDS = 20 #2000\n",
    "dm_won, dt_won = 0, 0\n",
    "for i in tqdm(range(0, ROUNDS)):\n",
    "    random.seed(i)\n",
    "    _, winner, _ = game.play(printResult=False, whoStarts=(i%2)+1)\n",
    "\n",
    "    if winner == P1:\n",
    "        dm_won+=1\n",
    "    elif winner == P2:\n",
    "        dt_won+=1\n",
    "\n",
    "print(\"Sonuçlar:\")\n",
    "print(f\"DM: {dm_won}\")\n",
    "print(f\"DT: {dt_won}\")\n",
    "print(f\"Berabere: {ROUNDS - dm_won - dt_won}\")"
   ]
  }
 ],
 "metadata": {
  "kernelspec": {
   "display_name": ".venv",
   "language": "python",
   "name": "python3"
  },
  "language_info": {
   "codemirror_mode": {
    "name": "ipython",
    "version": 3
   },
   "file_extension": ".py",
   "mimetype": "text/x-python",
   "name": "python",
   "nbconvert_exporter": "python",
   "pygments_lexer": "ipython3",
   "version": "3.10.14"
  }
 },
 "nbformat": 4,
 "nbformat_minor": 2
}
